{
 "cells": [
  {
   "cell_type": "markdown",
   "metadata": {},
   "source": [
    "# About this notebook \n",
    "\n",
    "[Dakota and Jisung's paper](https://arxiv.org/abs/2012.02785) demonstrated the mathematical equivalence between word2vec and the gravity law. In other words, word2vec creates an embedding space in which gravity law holds. In this notebook, I'll explore what new insights we can gain from the equivalence.\n",
    "\n",
    "## Preparation"
   ]
  },
  {
   "cell_type": "code",
   "execution_count": 1,
   "metadata": {},
   "outputs": [
    {
     "name": "stdout",
     "output_type": "stream",
     "text": [
      "/bin/zsh: /home/skojaku/anaconda3/lib/libtinfo.so.6: no version information available (required by /bin/zsh)\n",
      "Requirement already satisfied: gravlearn in /home/skojaku/projects/code/gravlearn (0.0.9)\n",
      "/bin/zsh: /home/skojaku/anaconda3/lib/libtinfo.so.6: no version information available (required by /bin/zsh)\n",
      "Requirement already satisfied: scikit-learn in /home/skojaku/anaconda3/envs/authordynamics/lib/python3.9/site-packages (1.0.1)\n",
      "Requirement already satisfied: seaborn in /home/skojaku/anaconda3/envs/authordynamics/lib/python3.9/site-packages (0.11.2)\n",
      "Requirement already satisfied: matplotlib in /home/skojaku/anaconda3/envs/authordynamics/lib/python3.9/site-packages (3.5.1)\n",
      "Requirement already satisfied: tqdm in /home/skojaku/anaconda3/envs/authordynamics/lib/python3.9/site-packages (4.62.3)\n",
      "Requirement already satisfied: pandas in /home/skojaku/anaconda3/envs/authordynamics/lib/python3.9/site-packages (1.4.2)\n",
      "Requirement already satisfied: numpy in /home/skojaku/anaconda3/envs/authordynamics/lib/python3.9/site-packages (1.21.3)\n",
      "Requirement already satisfied: scipy in /home/skojaku/anaconda3/envs/authordynamics/lib/python3.9/site-packages (1.7.1)\n",
      "Requirement already satisfied: threadpoolctl>=2.0.0 in /home/skojaku/anaconda3/envs/authordynamics/lib/python3.9/site-packages (from scikit-learn) (2.2.0)\n",
      "Requirement already satisfied: joblib>=0.11 in /home/skojaku/anaconda3/envs/authordynamics/lib/python3.9/site-packages (from scikit-learn) (1.1.0)\n",
      "Requirement already satisfied: kiwisolver>=1.0.1 in /home/skojaku/anaconda3/envs/authordynamics/lib/python3.9/site-packages (from matplotlib) (1.4.2)\n",
      "Requirement already satisfied: fonttools>=4.22.0 in /home/skojaku/anaconda3/envs/authordynamics/lib/python3.9/site-packages (from matplotlib) (4.25.0)\n",
      "Requirement already satisfied: pillow>=6.2.0 in /home/skojaku/anaconda3/envs/authordynamics/lib/python3.9/site-packages (from matplotlib) (9.0.1)\n",
      "Requirement already satisfied: pyparsing>=2.2.1 in /home/skojaku/anaconda3/envs/authordynamics/lib/python3.9/site-packages (from matplotlib) (2.4.7)\n",
      "Requirement already satisfied: packaging>=20.0 in /home/skojaku/anaconda3/envs/authordynamics/lib/python3.9/site-packages (from matplotlib) (21.3)\n",
      "Requirement already satisfied: python-dateutil>=2.7 in /home/skojaku/anaconda3/envs/authordynamics/lib/python3.9/site-packages (from matplotlib) (2.8.2)\n",
      "Requirement already satisfied: cycler>=0.10 in /home/skojaku/anaconda3/envs/authordynamics/lib/python3.9/site-packages (from matplotlib) (0.11.0)\n",
      "Requirement already satisfied: pytz>=2020.1 in /home/skojaku/anaconda3/envs/authordynamics/lib/python3.9/site-packages (from pandas) (2021.3)\n",
      "Requirement already satisfied: six>=1.5 in /home/skojaku/anaconda3/envs/authordynamics/lib/python3.9/site-packages (from python-dateutil>=2.7->matplotlib) (1.16.0)\n"
     ]
    }
   ],
   "source": [
    "! pip install gravlearn # my pytorch-based implementation of word2vec \n",
    "! pip install scikit-learn seaborn matplotlib tqdm pandas numpy scipy "
   ]
  },
  {
   "cell_type": "code",
   "execution_count": null,
   "metadata": {},
   "outputs": [],
   "source": []
  },
  {
   "cell_type": "markdown",
   "metadata": {},
   "source": [
    "\n",
    "# word2vec and gravity models\n",
    "\n",
    "### Mathematical equivalence between word2vec and a gravity model\n",
    "\n",
    "Suppose a sequence of entities $i_1, i_2, \\ldots, i_t$. One can think of $i$ as a word for a word embedding problem, or a location for the gravity model. A gravity model gives flow $T_{ij}$ from locations $i$ to $j$ by \n",
    "$$\n",
    "{\\mathbb E}[T_{ij}] = P(i)P(j) d(i,j), ...(1)\n",
    "$$\n",
    "where ${\\mathbb E}[\\cdot]$ denotes the expectation, and $P(i)$ is the mass at location $i$ and $d(i,j)$ is a function of distance between $i$ and $j$. word2vec gives the flow in the same form as the gravity model: \n",
    "$$\n",
    "{\\mathbb E}[T_{ij}] = G P(i)P(j) \\exp(u_i ^\\top u_j),  ...(2)\n",
    "$$\n",
    "where $G$ is a constant and $u_i$ is the embedding of word $i$. In other word, word2vec is a gravity model with a function $d(i,j)=\\exp(-u_i ^\\top u_j)$, and mass $P(i)$ being the frequency of word $i$ in the given sequences. See [Dakota and Jisung's paper](https://arxiv.org/abs/2012.02785) for the proof.\n",
    "\n",
    "### From similarity space to metric space \n",
    "\n",
    "The equivalence arises from the training algorithm of word2vec, so we are free to use any node similarity measure to construct the embedding space. Dot-similarity is widely used because, in large part, it is used in the word2vec paper, and works surprising well for many applications. A drawback is that the space is not a metric space. What does this mean? A *metric space* consists of a set of points and a function $d$ that gives *distance* between any two points in the space, with the following special properties:\n",
    "- non-negativity: $d(i,j)\\geq 0$ for all $i,j$,\n",
    "- identity of indiscernible: $d(i,j)=0 \\iff i=j$,\n",
    "- symmetry: $d(i,j)=d(j,i)$,\n",
    "- triangle inequality: $d(i,j) \\leq d(i,z) + d(z, j)$.\n",
    "\n",
    "Since dot-similarity violates non-negativity, identity of indiscernible and the triangle inequality, the space generated by word2vec is not a metric space. But why does it matter? Simply put, it allows us to use powerful tools for geometric space and draw geometric analogies more intuitively.  \n",
    "\n",
    "### Validation \n",
    "\n",
    "Let us first demonstrate that the equivalence is valid for a different distance metric. We use the worldwide airport network, and generate the sequences by the shortest paths between airports. To reduce the computational burden, we will reduce the network size to the k-core graph of $k=5$.  "
   ]
  },
  {
   "cell_type": "code",
   "execution_count": 2,
   "metadata": {},
   "outputs": [
    {
     "name": "stdout",
     "output_type": "stream",
     "text": [
      "669\n"
     ]
    },
    {
     "name": "stderr",
     "output_type": "stream",
     "text": [
      "100%|██████████| 223446/223446 [00:00<00:00, 282911.27it/s]\n"
     ]
    }
   ],
   "source": [
    "import gravlearn as gl\n",
    "import torch\n",
    "import numpy as np \n",
    "from scipy.sparse.csgraph import shortest_path\n",
    "\n",
    "# Load the worldwide airport network \n",
    "adj, labels, node_table = gl.load_airport_net(k_core=10) # remove peripheral airports to reduce the network size \n",
    "n_nodes = adj.shape[0]\n",
    "degree = np.array(adj.sum(axis = 1)).reshape(-1)\n",
    "print(n_nodes)\n",
    "# Generate the input sequence using the random walks \n",
    "seqs = gl.ShortestPathSampler(adj).sample_all_paths() "
   ]
  },
  {
   "cell_type": "markdown",
   "metadata": {},
   "source": [
    "In `gravlearn` package, we can specify which similarity measure to use: \n",
    "- Euclidean distance: `gravlearn.DistanceMetrics.EUCLIDEAN`\n",
    "- Cosine distance: `gravlearn.DistanceMetrics.COSINE`\n",
    "- Angular distance: `gravlearn.DistanceMetrics.ANGULAR`\n",
    "- Dot dissimilarity: `gravlearn.DistanceMetrics.DOTSIM`\n",
    "\n",
    "Here, let us use word2vec with the Euclidean distance as the distance metric, which models the flow $T_{ij}$ by \n",
    "$$\n",
    "{\\mathbb E}[T_{ij}] = G P(i)P(j) \\exp(-||u_i -u_j||_2)  ...(3)\n",
    "$$"
   ]
  },
  {
   "cell_type": "code",
   "execution_count": 5,
   "metadata": {},
   "outputs": [
    {
     "name": "stderr",
     "output_type": "stream",
     "text": [
      "100%|██████████| 13386/13386 [07:11<00:00, 31.05it/s, loss=1.3] \n"
     ]
    }
   ],
   "source": [
    "# Define the model\n",
    "model = gl.Word2Vec(n_nodes, dim=128)  # sim is the number of dimensions\n",
    "\n",
    "# Train\n",
    "device = \"cuda:1\"\n",
    "dist_metric = gl.DistanceMetrics.EUCLIDEAN  # Distance metric.\n",
    "model = gl.train(\n",
    "    model, seqs, device=device, window_length=1, dist_metric=dist_metric, epochs=3\n",
    ")\n",
    "\n",
    "# Get embedding\n",
    "emb = model.forward(torch.arange(n_nodes).to(device))"
   ]
  },
  {
   "cell_type": "markdown",
   "metadata": {},
   "source": [
    "Let us visualize the embedding using the PCA:"
   ]
  },
  {
   "cell_type": "code",
   "execution_count": 8,
   "metadata": {},
   "outputs": [
    {
     "data": {
      "image/png": "[encoded data removed]",
      "text/plain": [
       "<Figure size 504x504 with 1 Axes>"
      ]
     },
     "metadata": {},
     "output_type": "display_data"
    }
   ],
   "source": [
    "from sklearn.decomposition import PCA\n",
    "import seaborn as sns\n",
    "import matplotlib.pyplot as plt \n",
    "\n",
    "# Dimensionality reduction \n",
    "pca = PCA(n_components=2).fit(emb)\n",
    "#from sklearn.discriminant_analysis import LinearDiscriminantAnalysis\n",
    "#xy = pca.transform(emb)\n",
    "clf = LinearDiscriminantAnalysis(n_components=2)\n",
    "xy = clf.fit_transform(emb, labels)\n",
    "#logging.getLogger(\"urllib3\").setLevel(level=logging.DEBUG)\n",
    "degree = np.array(adj.sum(axis = 1)).ravel()\n",
    "\n",
    "# Plot \n",
    "sns.set_style('white')\n",
    "sns.set(font_scale=1.2)\n",
    "sns.set_style('ticks')\n",
    "fig, ax = plt.subplots(figsize=(7,7))\n",
    "\n",
    "sns.scatterplot(\n",
    "    x=xy[:, 0],\n",
    "    y=xy[:, 1],\n",
    "    hue=labels,\n",
    "    size=degree,\n",
    "    sizes=(5, 100),\n",
    "    ax=ax,\n",
    ")\n",
    "ax.legend(ncol=2)\n",
    "sns.despine()"
   ]
  },
  {
   "cell_type": "markdown",
   "metadata": {},
   "source": [
    "To test the validity of the equivalence, let us compare the actual flow $T_{ij}$ and the predicted flow $\\hat T_{ij}$ by the word2vec model. Since calculating the gravitational constant $G$ is computationally expensive, we drop $G$ and calculate the predicted flow. In other words, we will calculate un-normalized flows that are proportional to the flows predicted by word2vec. We will test if this un-normalized predicted flow is in linear relation to the actual flow: "
   ]
  },
  {
   "cell_type": "code",
   "execution_count": null,
   "metadata": {},
   "outputs": [],
   "source": [
    "import pandas as pd\n",
    "from scipy import stats\n",
    "\n",
    "# Counting the actual flows\n",
    "pair_ids, freq = np.unique(\n",
    "    np.concatenate([np.array(seq[:-1]) + np.array(seq[1:]) * n_nodes for seq in seqs]),\n",
    "    return_counts=True,\n",
    ")\n",
    "_to, _from = divmod(pair_ids, n_nodes)\n",
    "flow_table = pd.DataFrame({\"from\": _from, \"to\": _to, \"flow\": freq}).astype(\n",
    "    {\"from\": int, \"to\": int, \"flow\": float}\n",
    ")\n",
    "flow_table[\"log_flow\"] = np.log(flow_table[\"flow\"])\n",
    "\n",
    "# Calculate the predicted flows\n",
    "def predicted_log_flow_euclidean(_from, _to, mass, emb):\n",
    "    \"\"\"Calculate the logarithmic flow by the word2vec using Eq. (3)\"\"\" \n",
    "    return (\n",
    "        np.log(mass[_from])\n",
    "        + np.log(mass[_to])\n",
    "        - np.array(np.linalg.norm(emb[_from, :] - emb[_to, :], axis=1).reshape(-1))\n",
    "    )\n",
    "\n",
    "mass = np.bincount(\n",
    "    flow_table[\"from\"], weights=flow_table[\"flow\"], minlength=n_nodes\n",
    ") + np.bincount(flow_table[\"to\"], weights=flow_table[\"flow\"], minlength=n_nodes)\n",
    "flow_table[\"predicted_log_flow\"] = predicted_log_flow_euclidean(\n",
    "    flow_table[\"from\"], flow_table[\"to\"], mass, emb\n",
    ")"
   ]
  },
  {
   "cell_type": "code",
   "execution_count": null,
   "metadata": {},
   "outputs": [],
   "source": [
    "\n",
    "# Plot the actual and predicted flows\n",
    "sns.set_style(\"white\")\n",
    "sns.set(font_scale=1.2)\n",
    "sns.set_style(\"ticks\")\n",
    "\n",
    "# Bin the actual flows for visual clarity\n",
    "bin_width = 0.1\n",
    "flow_table[\"log_flow_binned\"] = flow_table[\"log_flow\"] // bin_width * bin_width\n",
    "\n",
    "fig, ax = plt.subplots(figsize=(5, 5))\n",
    "\n",
    "sns.lineplot(\n",
    "    data=flow_table,\n",
    "    x=\"log_flow_binned\",\n",
    "    y=\"predicted_log_flow\",\n",
    "    color=sns.color_palette().as_hex()[1],\n",
    "    ax=ax,\n",
    "    marker=\"o\",\n",
    ")\n",
    "rho = stats.pearsonr(flow_table[\"log_flow\"], flow_table[\"predicted_log_flow\"])[0]\n",
    "\n",
    "ax.annotate(\n",
    "    f\"Pearson R={rho:.2f}\",\n",
    "    (0.05, 1 - 0.05),\n",
    "    xycoords=\"axes fraction\",\n",
    "    ha=\"left\",\n",
    "    va=\"top\",\n",
    "    fontsize=20,\n",
    ")\n",
    "ax.set_ylabel(\"(Unnormalized) Predicted flow (log)\")\n",
    "ax.set_xlabel(\"Actual flow (log)\")\n",
    "sns.despine()\n"
   ]
  },
  {
   "cell_type": "markdown",
   "metadata": {},
   "source": [
    "The actual and the predicted flows are overall in linear relationship, supporting the equivalence. "
   ]
  },
  {
   "cell_type": "markdown",
   "metadata": {},
   "source": [
    "\n",
    "# From flow to gravity potential \n",
    "\n",
    "We can draw analogy from mechanical physics to define *the gravity potential* over embedding space. What is interesting about the gravity potential interesting? I'll show you in this section, but here are the summary: \n",
    "1. We can calculate a flow at any point in space by taking the derivative of the gravity potential.\n",
    "2. A local minimum is an area that attracts the flow around it. We can systematically identify local minima, and cluster the points in non-parametric and unsupervised fashion based on which local minimum the points are attracted to.  \n",
    "3. Local minima (i.e., basins) are separated by local maximals (i.e., hills) of different hight. The hight of the hills corresponds to unlikeliness of the flow between the local minima.  \n",
    "\n",
    "### What is the gravitational potential?\n",
    "![gravity potential](https://www.schoolphysics.co.uk/age16-19/Mechanics/Gravitation/text/Gravitational_potential/images/7.png)\n",
    "\n",
    "Let's start from the concept of the gravity potential in mechanical physics. Suppose two objects $i$ and $j$ at locations $u_i$ and $u_j$ with mass $P(i)$ and $P(j)$. Let $d(u_i, u_j)$ be the distance between $i$ and $j$. The two objects pull each other with a gravitational force\n",
    "$$\n",
    "F(d(i,j)) = -G\\frac{P(u_i)P(u_j)}{d(u_i, u_j)^2}.\n",
    "$$\n",
    "An observer at location $u_i$ would see that the other object at $u_j$ is falling down. This can be interpreted that object $j$ has an *energy potential* due to the gravitational forces $F$. If $j$ moves closer to $i$, $j$ gains some energy, whereas if $j$ moves away from $i$, $j$ loses some energy. The gravitational potential at $u_j$ is the amount of energy per mass that $j$ gains by moving to the location $u_j$ from a location infinitely far away, i.e., \n",
    "$$\n",
    "\\phi(u_j;u_i) = \\frac{1}{P(j)}\\int_{\\infty} ^{d(u_i, u_j)} F(r) {\\rm d}r,\n",
    "$$ \n",
    "which yields the gravity potential\n",
    "$$\n",
    "\\phi(u_j;u_i) = -G\\frac{P(i)}{d(u_i, u_j)}.\n",
    "$$\n",
    "The gravity potential is *additive*. That is, in a space with $N$ point masses $P(1),\\ldots,P(N)$ at locations $u_1, \\ldots, u_N$, the gravity potential at location $x$ is given by\n",
    "$$\n",
    "\\Phi(x) = \\sum_{i=1}^N \\phi(x;u_i) = -G\\sum_{i=1}^N \\frac{P(i)}{d(x, u)}.\n",
    "$$\n",
    "Why do we define the potential in this way? You should ask your Physics teacher. But one important property is that it's derivative gives you all information about the gravitational forces, including the direction and intensity.\n",
    "\n",
    "### Gravitational potential over embedding\n",
    "\n",
    "We can derive the gravity potential for embedding by noting that the gravitational force is mathematically analogous to flow predicted by the word2vec. Unfortunately, the integral does not have a convenient closed-form solution. For some distance metrics, we can obtain a closed form solution. For example, with the Euclidean distance, the potential at location $x$ generated by a point mass at location $u$ is given by \n",
    "$$\n",
    "\\Phi(x) = \\sum_{i=1}^N \\phi(x;u_i) = -G\\sum_{i=1}^N P(i)\\exp(-d(x, u)).\n",
    "$$\n",
    "The same for the angular distance metric. \n",
    "\n",
    "\n",
    "### Example\n",
    "\n",
    "Let us calculate the gravity potential for the embedding of the worldwide airport network. To start, let us calculate the gravitational potential at each airport in space. Which airport has the lowest and the highest potential? "
   ]
  },
  {
   "cell_type": "code",
   "execution_count": null,
   "metadata": {},
   "outputs": [],
   "source": [
    "from scipy import spatial\n",
    "\n",
    "# Calculate the gravitational potential\n",
    "def calc_grav_potential(x, emb, mass):\n",
    "    return -1 * np.sum(\n",
    "        mass * np.exp(-spatial.distance.cdist(x, emb, \"euclidean\")), axis=1\n",
    "    )\n",
    "\n",
    "\n",
    "# Compute the mass (i.e., the frequency of each airport in the shortest paths.)\n",
    "# Note that the mass is proportional to the betweenness centrality of each airport.\n",
    "mass = np.bincount(np.concatenate(seqs), minlength=n_nodes).astype(float)\n",
    "mass /= np.sum(mass)\n",
    "\n",
    "Phi = calc_grav_potential(emb, emb, mass)\n",
    "\n",
    "# Print the top 10 airports with the smallest potential\n",
    "df = node_table.copy()\n",
    "df[\"grav_potential\"] = Phi\n",
    "df[\"mass\"] = mass\n",
    "df[\"deg\"] = degree\n",
    "df.sort_values(by=\"grav_potential\")[\n",
    "    [\"Name\", \"City\", \"Country\", \"deg\", \"grav_potential\", \"mass\"]\n",
    "]\n"
   ]
  },
  {
   "cell_type": "markdown",
   "metadata": {},
   "source": [
    "The gravitational potential is correlated but not identical to the degree and mass (i.e., betweenness centrality)"
   ]
  },
  {
   "cell_type": "code",
   "execution_count": null,
   "metadata": {},
   "outputs": [],
   "source": [
    "df[[\"grav_potential\", \"deg\", \"mass\"]].corr()"
   ]
  },
  {
   "cell_type": "markdown",
   "metadata": {},
   "source": [
    "### Visualizing the gravity potential\n",
    "\n",
    "The gravitational potential is a field in a high dimensional space. Let us visualize the potential by reducing its dimensions as follows. \n",
    "1. We sample points from a distribution that is proportional to the absolute value of the gravity potential (which is easy to do. See the code).\n",
    "2. Then, we project the sampled points onto a 2D plane. \n",
    "3. We apply the kernel density estimation on the 2D plane to visualize the potential landscape. \n",
    "\n",
    "The distribution on the 2D plane corresponds to the marginal of the gravitational potential, and we are free to use any linear projection method. We will use the PCA for this demonstration. It is also possible to use non-linear dimensionality reduction techniques such as UMAP but, with a caution that the density may not correspond to the marginal distribution. "
   ]
  },
  {
   "cell_type": "code",
   "execution_count": null,
   "metadata": {},
   "outputs": [],
   "source": [
    "from sklearn.decomposition import PCA\n",
    "\n",
    "# Sample from the gravitational potential\n",
    "def sample_from_grav_potential(emb, mass, num_samples):\n",
    "    \"\"\"Sample from a distribution proportional to the magnitude of the gravitationa potential.\n",
    "    We take advantage of the fact that the gravitational potential is a sum of exponential functions, i.e.,\n",
    "        Potential \\propto \\sum_{j} P(j) \\exp(-x_j)\n",
    "    where P(j) is the mass of the j-th node, x_j is the distance to the point mass j. We first sample\n",
    "    a point mass $j$ with probability proportional to P(j), and then draw a distance $d$ from an exponential distribution exp(-d).\n",
    "    With the sampled point mass $j$ and distance $d$, we compose a random point x_j + d * b, where $b$ is a random vector of unit length 1.\n",
    "    \"\"\"\n",
    "    mass = mass.astype(np.float32)\n",
    "    p = mass / np.sum(mass)\n",
    "    dim = emb.shape[1]\n",
    "\n",
    "    # Draw random directions\n",
    "    d = np.random.randn(num_samples, dim)\n",
    "    d = np.einsum(\"ij,i->ij\", d, 1 / np.linalg.norm(d, axis=1))\n",
    "\n",
    "    # Draw distance from the masses\n",
    "    r = np.random.exponential(size=num_samples)\n",
    "\n",
    "    # Select the masses\n",
    "    centers = np.random.choice(emb.shape[0], size=num_samples, p=p)\n",
    "\n",
    "    # Putting them together\n",
    "    return emb[centers, :] + np.einsum(\"i,ij->ij\", r, d)\n",
    "\n",
    "\n",
    "emb_sampled = sample_from_grav_potential(emb, mass, num_samples=2000)\n"
   ]
  },
  {
   "cell_type": "code",
   "execution_count": null,
   "metadata": {},
   "outputs": [],
   "source": [
    "import seaborn as sns\n",
    "import matplotlib.pyplot as plt\n",
    "\n",
    "def plot_grav_potential(emb, labels, emb_rand, pca, ax):\n",
    "    \"\"\"Plotter for the gravitational potential. \n",
    "    - Plot the nodes with colors corresponding to 'labels'.\n",
    "    - Plot the gravitational potential using the points `emb_rand` sampled from the potential.\n",
    "    - `pca` is the scikit-learn PCA class for the dimensionality reduction.\n",
    "    - The node size is proportional to the mass. \n",
    "    \"\"\"\n",
    "    xy = pca.transform(emb) \n",
    "    xy_rand = pca.transform(emb_rand) \n",
    "\n",
    "    sns.kdeplot(\n",
    "        x = xy_rand[:, 0], y = xy_rand[:, 1],\n",
    "        cmap=\"mako\",\n",
    "        fill=True,\n",
    "        thresh=0,\n",
    "        levels=200,\n",
    "        ax=ax,\n",
    "    )\n",
    "    \n",
    "    sns.scatterplot(\n",
    "        x=xy[:, 0],\n",
    "        y=xy[:, 1],\n",
    "        hue=labels,\n",
    "        size=mass, # betweenness centrality\n",
    "        sizes=(10, 200),\n",
    "        zorder = 10,\n",
    "        ax=ax,\n",
    "    )\n",
    "    \n",
    "    \n",
    "    # Set the canvas size \n",
    "    xmin, xmax = np.min(xy[:, 0]), np.max(xy[:, 0]), \n",
    "    ymin, ymax = np.min(xy[:, 1]), np.max(xy[:, 1])\n",
    "    dx, dy = xmax - xmin, ymax - ymin \n",
    "    xmin, xmax =xmin - dx * 0.1, xmax + dx * 0.1\n",
    "    ymin, ymax =ymin - dy * 0.1, ymax + dy * 0.1\n",
    "    \n",
    "    ax.set_xlim(xmin, xmax)\n",
    "    ax.set_ylim(ymin, ymax)\n",
    "    ax.legend(ncol=2)\n",
    "    ax.axis(\"off\")\n",
    "    return ax\n",
    "\n",
    "# Train the dimensionality reducer \n",
    "pca = PCA(n_components=2).fit(emb_sampled)\n",
    "\n",
    "# Plot\n",
    "sns.set_style('white')\n",
    "sns.set(font_scale=0.9)\n",
    "sns.set_style('ticks')\n",
    "fig, ax = plt.subplots(figsize=(7,7))\n",
    "\n",
    "ax = plot_grav_potential(emb, labels, emb_sampled, pca, ax)\n",
    "\n",
    "sns.despine()"
   ]
  },
  {
   "cell_type": "markdown",
   "metadata": {},
   "source": [
    "The landscape provides some insights into the flows. \n",
    "- ***Inter-regional flows***\n",
    "There are several \"basins\" in the gravitational potential. Each basin corresponds to a regional cluster of airports, and is separated from other basins by the \"hills\" of the gravity potential.\n",
    "The Asian and American clusters are separated by a higher energy hill than that betweeen Asian and European clusters, suggesting that the Asia-America flows are unlikely than Asia-Europe flows. \n",
    "- ***Within-regional flows***\n",
    "Flows are likely to occur between close airports, and intense if the flows go along a steep slope of the landscape. Since airports within the same basin are close to each other and have a similar potential, each basin has many but small flows within it. \n",
    "\n",
    "In case you might wonder if this is really the case, let us overlay the flows on the 2D plane. Each flow is represented as a grey line, with the width and opacity indicating the amount of the flow between the airports.  "
   ]
  },
  {
   "cell_type": "code",
   "execution_count": null,
   "metadata": {},
   "outputs": [],
   "source": [
    "from collections import Counter\n",
    "\n",
    "# Sample some paths and count the flows\n",
    "n_samples = 5000\n",
    "sampled_flow = Counter(\n",
    "    [\n",
    "        (seqs[i][t - 1], seqs[i][t])\n",
    "        for i in np.random.choice(len(seqs), n_samples)\n",
    "        for t in range(1, len(seqs[i]))\n",
    "    ]\n",
    ")\n",
    "\n",
    "\n",
    "# Plot\n",
    "sns.set_style(\"white\")\n",
    "sns.set(font_scale=0.9)\n",
    "sns.set_style(\"ticks\")\n",
    "\n",
    "fig, ax = plt.subplots(figsize=(7, 7))\n",
    "ax = plot_grav_potential(emb, labels, emb_sampled, pca, ax)\n",
    "\n",
    "# Plot the flow.The line width and the opacity of lines are set by the number of flows\n",
    "xy = pca.transform(emb)\n",
    "vall = max(sampled_flow.values())\n",
    "for k, v in sampled_flow.items():\n",
    "    flow = v / vall\n",
    "    ax.plot(xy[k, 0], xy[k, 1], color=\"white\", alpha=np.minimum(flow, 0.2), lw=5 * flow)\n",
    "\n",
    "sns.despine()\n"
   ]
  },
  {
   "cell_type": "markdown",
   "metadata": {},
   "source": [
    "- There are more flows between Asian and European clusters than between Asian and American clusters.\n",
    "- The within-regional flow are relatively small compared to inter-regional flows.\n",
    "\n",
    "The gravitational potential captures flows not only at global level but also within each region. We visualize the gravitational potential region-wise by calculating the potential based on the airports in the respective region. "
   ]
  },
  {
   "cell_type": "code",
   "execution_count": null,
   "metadata": {},
   "outputs": [],
   "source": [
    "# Plot \n",
    "def plot_regional_landscape(region_name, ax):\n",
    "    s = labels == region_name \n",
    "    subemb = emb[s, :]\n",
    "    submass = mass[s]\n",
    "    sublabels = node_table.iloc[s][\"sub-region\"].values\n",
    "    \n",
    "    sampled = sample_from_grav_potential(subemb, submass, num_samples = 5000)\n",
    "    \n",
    "    # Dimensionality reduction\n",
    "    pca = PCA(n_components=2).fit(subemb)\n",
    "    xys = pca.transform(subemb) \n",
    "    xy_rand = pca.transform(sampled) \n",
    "    \n",
    "    xmin, xmax = np.min(xys[:, 0]), np.max(xys[:, 0]), \n",
    "    ymin, ymax = np.min(xys[:, 1]), np.max(xys[:, 1])\n",
    "    dx, dy = xmax - xmin, ymax - ymin \n",
    "    xmin, xmax =xmin - dx * 0.1, xmax + dx * 0.1\n",
    "    ymin, ymax =ymin - dy * 0.1, ymax + dy * 0.1\n",
    "    sns.kdeplot(\n",
    "        x = xy_rand[:, 0], y = xy_rand[:, 1],\n",
    "        cmap=\"mako\",\n",
    "        fill=True,\n",
    "        thresh=0,\n",
    "        levels=100,\n",
    "        ax=ax,\n",
    "    )\n",
    "    sns.scatterplot(\n",
    "        x=xys[:, 0],\n",
    "        y=xys[:, 1],\n",
    "        hue=sublabels,\n",
    "        size=mass[s], # betweenness centrality\n",
    "        sizes=(10, 200),\n",
    "        ax=ax,\n",
    "    )\n",
    "    ax.set_xlim(xmin, xmax)\n",
    "    ax.set_ylim(ymin, ymax)\n",
    "\n",
    "    n_labels = len(set(sublabels))\n",
    "    h,l = ax.get_legend_handles_labels()\n",
    "    ax.legend(h[:n_labels], l[:n_labels])\n",
    "    ax.set_title(region_name)\n",
    "    ax.axis(\"off\")\n",
    "\n",
    "sns.set_style('white')\n",
    "sns.set(font_scale=0.9)\n",
    "sns.set_style('ticks')\n",
    "\n",
    "fig, axes = plt.subplots(ncols = 3, nrows =2,  figsize=(15,10))\n",
    "\n",
    "\n",
    "plot_regional_landscape(\"Americas\", axes[0, 0])\n",
    "plot_regional_landscape(\"Africa\", axes[0, 1])\n",
    "plot_regional_landscape(\"Asia\", axes[0, 2])\n",
    "plot_regional_landscape(\"Europe\", axes[1, 0])\n",
    "plot_regional_landscape(\"Oceania\", axes[1,1])\n",
    "axes[1, 2].axis(\"off\")\n",
    "sns.despine()"
   ]
  },
  {
   "cell_type": "markdown",
   "metadata": {},
   "source": [
    "Within each region, the basins correspond to sub-regional clusters with a different level of potential. For example, tn Americas, there are roughly two basins, one for North America and the other for Latin and the Caribbean. North America has a lower gravitational potential so that flows from Latin America and Caribbean tend to go into the North America. \n",
    "\n",
    "### Finding local minima\n",
    "\n",
    "Flows go along the gravity potential landscape from high to low potential, so that a flow from an airport ends up with a local minimum around the airport. A local minimum corresponds to an area that attracts flows from its surroundings and thus can be seen as a regional center. How many local minima are there, and where are they?\n",
    "\n",
    "We find them by simulating and following the flows. Specifically, the flow at location $x$ is the gradient of the gravitational landscape. \n",
    "$$\n",
    "\\frac{\\partial }{\\partial x} \\Phi(x) = G\\sum_{i=1}^N P(u_i)\\exp(-d(x, u_i)) \\frac{u_i - x}{||u_i - x||}.\n",
    "$$\n",
    "To approach a local minimum, we walk along the gradient with a small step $\\epsilon$, and repeat this process many times. This is exactly the same process as running a gradient descent algorithm on the gravity potential. \n",
    "\n",
    "We run a gradient descent algorithm from 500 airports sampled randomly, and find the local minima around them. "
   ]
  },
  {
   "cell_type": "code",
   "execution_count": null,
   "metadata": {},
   "outputs": [],
   "source": [
    "import faiss\n",
    "import torch\n",
    "from tqdm import tqdm\n",
    "\n",
    "\n",
    "def gradient_descent(\n",
    "    x0, emb, mass, max_iter=1000, k=500, mode=\"descent\", return_path=False\n",
    "):\n",
    "    \"\"\"Gradient descent algorithm on the gravitational potential.\n",
    "    To reduce the computation time, the gradient at a location is calculated\n",
    "    based on the k nearest point masses for the location.\n",
    "    \"\"\"\n",
    "\n",
    "    # Get the dimension\n",
    "    dim = emb.shape[1]\n",
    "\n",
    "    # Set up the faiss database\n",
    "    index = faiss.IndexFlatL2(dim)\n",
    "    index.add(emb.astype(np.float32))\n",
    "\n",
    "    # Gradient calculation\n",
    "    def calc_gradient(x, mass, emb):\n",
    "        distances, indices = index.search(x.astype(np.float32), k)\n",
    "        grad = np.zeros_like(x)\n",
    "        for i in range(distances.shape[0]):\n",
    "            dist = distances[i, :]\n",
    "            neis = indices[i, :]\n",
    "            dx = emb[neis, :] - x[i, :]\n",
    "            dx = np.einsum(\n",
    "                \"ij,i->ij\", dx, 1 / np.maximum(np.linalg.norm(dx, axis=1), 1e-10)\n",
    "            )\n",
    "            grad[i, :] = np.einsum(\"i,ij->j\", mass[neis] * np.exp(-dist), dx)\n",
    "        if mode == \"descent\":\n",
    "            return -grad\n",
    "        elif mode == \"ascent\":\n",
    "            return grad\n",
    "\n",
    "    # Gradient descent\n",
    "    xt = torch.nn.Parameter(torch.from_numpy(x0.copy()), requires_grad=True)\n",
    "    optim = torch.optim.SGD([xt], lr=0.01)\n",
    "    Xt = [x0]\n",
    "    for it in tqdm(range(max_iter)):\n",
    "        dx = calc_gradient(xt.detach().numpy(), mass, emb)\n",
    "        xt.grad = torch.from_numpy(dx)\n",
    "        optim.step()\n",
    "        Xt.append(xt.detach().numpy())\n",
    "\n",
    "    if return_path:\n",
    "        return Xt\n",
    "    else:\n",
    "        return xt.detach().numpy()\n",
    "\n",
    "\n",
    "# Run a gradient descent from randomly-chosen airports in space\n",
    "sampled_nodes = np.random.choice(emb.shape[0], size = 500, replace = False)\n",
    "local_mins = gradient_descent(\n",
    "    emb[sampled_nodes, :], emb, mass, k=200, max_iter=5000, mode=\"descent\", return_path=True\n",
    ")\n"
   ]
  },
  {
   "cell_type": "markdown",
   "metadata": {},
   "source": [
    "Let us visualize the local minima for each airport. A star indicates the local minima, identified by the flows from airports connected by the white lines.  "
   ]
  },
  {
   "cell_type": "code",
   "execution_count": null,
   "metadata": {},
   "outputs": [],
   "source": [
    "# Dimensionally reduce the local minima\n",
    "xy_lm = pca.transform(local_mins[-1])\n",
    "\n",
    "# Plot \n",
    "sns.set_style('white')\n",
    "sns.set(font_scale=0.9)\n",
    "sns.set_style('ticks')\n",
    "\n",
    "fig, ax = plt.subplots(figsize=(7,7))\n",
    "plot_grav_potential(emb, labels, emb_sampled, pca, ax)\n",
    "sns.scatterplot(\n",
    "    x=xy_lm[:, 0],\n",
    "    y=xy_lm[:, 1],\n",
    "    color = \"yellow\",\n",
    "    edgecolor = \"black\",\n",
    "    s=100,\n",
    "    zorder = 11,\n",
    "    marker = \"*\",\n",
    "    ax=ax,\n",
    ")\n",
    "\n",
    "xy = pca.transform(emb)\n",
    "for i, k in enumerate(sampled_nodes):\n",
    "    flow = v / vall\n",
    "    ax.plot([xy[k, 0], xy_lm[i, 0]], [xy[k, 1], xy_lm[i, 1]], color=\"white\")\n",
    "\n",
    "sns.despine()"
   ]
  },
  {
   "cell_type": "markdown",
   "metadata": {},
   "source": [
    "There are only a handful of local minima for randomly-sampled 500 airports. Each local minima is located near the center of the basin that the airport is in. The European cluster roughly has two local minima. This result demonstrates the utility of local minima for clustering, i.e., we can find clusters of airports based on which local minima they are attracted to. We can also draw a border line between the clusters based on the boundaries of attractions. "
   ]
  },
  {
   "cell_type": "markdown",
   "metadata": {},
   "source": [
    "# Summary and the next steps "
   ]
  },
  {
   "cell_type": "markdown",
   "metadata": {},
   "source": [
    "- The mathematical equivalence between gravity model and word2vec holds for other similarity metrics such as the Euclidean and angular distance metrics.  \n",
    "- Drawing analogies from mechanical physics, we can consider a gravitational potential over embedding space. The gravitational potential is a different way to represent flows in space, where the direction and the intensity of a flow at a location is the gradient of the landscape at that location. \n",
    "- Gravity potential provides some insights about flows that cannot be revealed by the distance between points. For example, even if two points are close, flows are unlikely to occur between them if they are separated by a large hill in the gravity potential.\n",
    "- Local minima in the gravity potential may be used to find clusters based on what nodes they attract. "
   ]
  }
 ],
 "metadata": {
  "interpreter": {
   "hash": "4ba3cc8ac23911f9837f125f410aa79985736e9a53ede8675efb0dd78c13842c"
  },
  "kernelspec": {
   "display_name": "Python 3.9.7 ('authordynamics')",
   "language": "python",
   "name": "python3"
  },
  "language_info": {
   "codemirror_mode": {
    "name": "ipython",
    "version": 3
   },
   "file_extension": ".py",
   "mimetype": "text/x-python",
   "name": "python",
   "nbconvert_exporter": "python",
   "pygments_lexer": "ipython3",
   "version": "3.9.7"
  },
  "orig_nbformat": 4
 },
 "nbformat": 4,
 "nbformat_minor": 2
}
